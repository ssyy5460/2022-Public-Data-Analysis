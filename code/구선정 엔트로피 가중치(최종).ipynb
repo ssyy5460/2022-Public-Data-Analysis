{
 "cells": [
  {
   "cell_type": "markdown",
   "id": "d56bca0c",
   "metadata": {},
   "source": [
    "- 데이터 : 750m 총합.csv + 3개.csv (어린이집명으로 병합)\n",
    "- 파생변수 : '보육실 면적' / '정원'\n",
    "- MinMax 스케일링 ([0.28802173, 0.29011101, 0.14582084, 0.27604642])\n",
    "- x / sum(x) 평균 스케일링([0.10536745, 0.30839818, 0.25513354, 0.33110083])\n",
    "-> '엔트로피 가중치 산정방법을 활용한 도시지역 홍수취약성 평가' minmax 참고"
   ]
  },
  {
   "cell_type": "code",
   "execution_count": 95,
   "id": "380d330f",
   "metadata": {},
   "outputs": [],
   "source": [
    "import os\n",
    "import warnings\n",
    "warnings.simplefilter(action='ignore',category=FutureWarning)\n",
    "import numpy as np\n",
    "import pandas as pd\n",
    "import math\n",
    "import matplotlib.pyplot as plt\n",
    "import seaborn as sns\n",
    "import scipy.stats as stats\n",
    "from sklearn.preprocessing import MinMaxScaler\n",
    "\n",
    "%matplotlib inline\n",
    "import os\n",
    "if os.name=='nt':\n",
    "    font_family=\"Malgun Gothic\"\n",
    "else:\n",
    "    font_family='AppleGothic'\n",
    "    \n",
    "sns.set(font=font_family,rc={\"axes.unicode_minus\":False})"
   ]
  },
  {
   "cell_type": "code",
   "execution_count": 96,
   "id": "0829f38e",
   "metadata": {},
   "outputs": [],
   "source": [
    "df = pd.read_csv('../data/750m 총합.csv', sep = \",\",encoding='cp949')"
   ]
  },
  {
   "cell_type": "code",
   "execution_count": 97,
   "id": "0ab269ec",
   "metadata": {},
   "outputs": [],
   "source": [
    "df2 = pd.read_csv('../data/3개.csv', sep = \",\",encoding='cp949')"
   ]
  },
  {
   "cell_type": "code",
   "execution_count": 98,
   "id": "417f2e8c",
   "metadata": {},
   "outputs": [],
   "source": [
    "df['면적당 수용인원'] = df['보육실 면적'] /  df['정원'] "
   ]
  },
  {
   "cell_type": "code",
   "execution_count": 99,
   "id": "a889fa9a",
   "metadata": {},
   "outputs": [],
   "source": [
    "df1 = df[['어린이집명','면적당 수용인원']]"
   ]
  },
  {
   "cell_type": "code",
   "execution_count": 100,
   "id": "bbca9bad",
   "metadata": {},
   "outputs": [],
   "source": [
    "df3 = pd.merge(df1, df2, how = 'inner' , on = '어린이집명')"
   ]
  },
  {
   "cell_type": "code",
   "execution_count": 101,
   "id": "9f128ca9",
   "metadata": {
    "scrolled": true
   },
   "outputs": [
    {
     "data": {
      "text/html": [
       "<div>\n",
       "<style scoped>\n",
       "    .dataframe tbody tr th:only-of-type {\n",
       "        vertical-align: middle;\n",
       "    }\n",
       "\n",
       "    .dataframe tbody tr th {\n",
       "        vertical-align: top;\n",
       "    }\n",
       "\n",
       "    .dataframe thead th {\n",
       "        text-align: right;\n",
       "    }\n",
       "</style>\n",
       "<table border=\"1\" class=\"dataframe\">\n",
       "  <thead>\n",
       "    <tr style=\"text-align: right;\">\n",
       "      <th></th>\n",
       "      <th>면적당 수용인원</th>\n",
       "      <th>보육교사_1인당_아동수</th>\n",
       "      <th>충족률</th>\n",
       "      <th>어린이집개수</th>\n",
       "    </tr>\n",
       "  </thead>\n",
       "  <tbody>\n",
       "    <tr>\n",
       "      <th>0</th>\n",
       "      <td>2.789474</td>\n",
       "      <td>2.166667</td>\n",
       "      <td>0.684211</td>\n",
       "      <td>13</td>\n",
       "    </tr>\n",
       "    <tr>\n",
       "      <th>1</th>\n",
       "      <td>4.250000</td>\n",
       "      <td>2.857143</td>\n",
       "      <td>1.000000</td>\n",
       "      <td>12</td>\n",
       "    </tr>\n",
       "    <tr>\n",
       "      <th>2</th>\n",
       "      <td>3.052632</td>\n",
       "      <td>1.714286</td>\n",
       "      <td>0.631579</td>\n",
       "      <td>13</td>\n",
       "    </tr>\n",
       "  </tbody>\n",
       "</table>\n",
       "</div>"
      ],
      "text/plain": [
       "   면적당 수용인원  보육교사_1인당_아동수       충족률  어린이집개수\n",
       "0  2.789474      2.166667  0.684211      13\n",
       "1  4.250000      2.857143  1.000000      12\n",
       "2  3.052632      1.714286  0.631579      13"
      ]
     },
     "execution_count": 101,
     "metadata": {},
     "output_type": "execute_result"
    }
   ],
   "source": [
    "df_final = df3[['면적당 수용인원','보육교사_1인당_아동수', '충족률', '어린이집개수']]\n",
    "df_final.head(3)"
   ]
  },
  {
   "cell_type": "markdown",
   "id": "729c3c2d",
   "metadata": {},
   "source": [
    "## MinMax 스케일링"
   ]
  },
  {
   "cell_type": "code",
   "execution_count": 102,
   "id": "15946458",
   "metadata": {},
   "outputs": [],
   "source": [
    "# MinMax 스케일링\n",
    "minmax = MinMaxScaler()\n",
    "scale_minmax = minmax.fit_transform(df_final.iloc[:, :])\n",
    "\n",
    "scale_df = pd.DataFrame(scale_minmax, columns = [\"면적당 수용인원\",\"보육교사_1인당_아동수\",\"충족률\",\"어린이집개수\"])"
   ]
  },
  {
   "cell_type": "code",
   "execution_count": 103,
   "id": "5aecbb24",
   "metadata": {},
   "outputs": [
    {
     "data": {
      "text/html": [
       "<div>\n",
       "<style scoped>\n",
       "    .dataframe tbody tr th:only-of-type {\n",
       "        vertical-align: middle;\n",
       "    }\n",
       "\n",
       "    .dataframe tbody tr th {\n",
       "        vertical-align: top;\n",
       "    }\n",
       "\n",
       "    .dataframe thead th {\n",
       "        text-align: right;\n",
       "    }\n",
       "</style>\n",
       "<table border=\"1\" class=\"dataframe\">\n",
       "  <thead>\n",
       "    <tr style=\"text-align: right;\">\n",
       "      <th></th>\n",
       "      <th>면적당 수용인원</th>\n",
       "      <th>보육교사_1인당_아동수</th>\n",
       "      <th>충족률</th>\n",
       "      <th>어린이집개수</th>\n",
       "    </tr>\n",
       "  </thead>\n",
       "  <tbody>\n",
       "    <tr>\n",
       "      <th>0</th>\n",
       "      <td>0.165713</td>\n",
       "      <td>0.206642</td>\n",
       "      <td>0.648120</td>\n",
       "      <td>0.722222</td>\n",
       "    </tr>\n",
       "    <tr>\n",
       "      <th>1</th>\n",
       "      <td>0.425307</td>\n",
       "      <td>0.313653</td>\n",
       "      <td>1.000000</td>\n",
       "      <td>0.666667</td>\n",
       "    </tr>\n",
       "    <tr>\n",
       "      <th>2</th>\n",
       "      <td>0.212486</td>\n",
       "      <td>0.136531</td>\n",
       "      <td>0.589474</td>\n",
       "      <td>0.722222</td>\n",
       "    </tr>\n",
       "    <tr>\n",
       "      <th>3</th>\n",
       "      <td>0.183383</td>\n",
       "      <td>0.232472</td>\n",
       "      <td>0.319048</td>\n",
       "      <td>0.722222</td>\n",
       "    </tr>\n",
       "    <tr>\n",
       "      <th>4</th>\n",
       "      <td>0.220906</td>\n",
       "      <td>0.309963</td>\n",
       "      <td>0.832857</td>\n",
       "      <td>0.722222</td>\n",
       "    </tr>\n",
       "    <tr>\n",
       "      <th>...</th>\n",
       "      <td>...</td>\n",
       "      <td>...</td>\n",
       "      <td>...</td>\n",
       "      <td>...</td>\n",
       "    </tr>\n",
       "    <tr>\n",
       "      <th>311</th>\n",
       "      <td>0.175067</td>\n",
       "      <td>0.269373</td>\n",
       "      <td>0.941353</td>\n",
       "      <td>0.444444</td>\n",
       "    </tr>\n",
       "    <tr>\n",
       "      <th>312</th>\n",
       "      <td>0.157051</td>\n",
       "      <td>0.289299</td>\n",
       "      <td>1.000000</td>\n",
       "      <td>0.388889</td>\n",
       "    </tr>\n",
       "    <tr>\n",
       "      <th>313</th>\n",
       "      <td>0.158697</td>\n",
       "      <td>0.490775</td>\n",
       "      <td>1.000000</td>\n",
       "      <td>0.611111</td>\n",
       "    </tr>\n",
       "    <tr>\n",
       "      <th>314</th>\n",
       "      <td>0.300889</td>\n",
       "      <td>0.361624</td>\n",
       "      <td>0.944286</td>\n",
       "      <td>0.555556</td>\n",
       "    </tr>\n",
       "    <tr>\n",
       "      <th>315</th>\n",
       "      <td>0.315700</td>\n",
       "      <td>0.092251</td>\n",
       "      <td>0.257143</td>\n",
       "      <td>0.611111</td>\n",
       "    </tr>\n",
       "  </tbody>\n",
       "</table>\n",
       "<p>316 rows × 4 columns</p>\n",
       "</div>"
      ],
      "text/plain": [
       "     면적당 수용인원  보육교사_1인당_아동수       충족률    어린이집개수\n",
       "0    0.165713      0.206642  0.648120  0.722222\n",
       "1    0.425307      0.313653  1.000000  0.666667\n",
       "2    0.212486      0.136531  0.589474  0.722222\n",
       "3    0.183383      0.232472  0.319048  0.722222\n",
       "4    0.220906      0.309963  0.832857  0.722222\n",
       "..        ...           ...       ...       ...\n",
       "311  0.175067      0.269373  0.941353  0.444444\n",
       "312  0.157051      0.289299  1.000000  0.388889\n",
       "313  0.158697      0.490775  1.000000  0.611111\n",
       "314  0.300889      0.361624  0.944286  0.555556\n",
       "315  0.315700      0.092251  0.257143  0.611111\n",
       "\n",
       "[316 rows x 4 columns]"
      ]
     },
     "execution_count": 103,
     "metadata": {},
     "output_type": "execute_result"
    }
   ],
   "source": [
    "scale_df"
   ]
  },
  {
   "cell_type": "code",
   "execution_count": 104,
   "id": "f4d60f43",
   "metadata": {
    "scrolled": false
   },
   "outputs": [],
   "source": [
    "scale_p = scale_df.to_numpy()"
   ]
  },
  {
   "cell_type": "code",
   "execution_count": 105,
   "id": "19a01f81",
   "metadata": {},
   "outputs": [],
   "source": [
    "entropy = []\n",
    "for i in range(0,4):\n",
    "    scale = scale_p[:,i]\n",
    "    id_scale = np.where(scale)\n",
    "    weight = -(1/np.log(len(scale))) * np.sum(scale[id_scale]*np.log(scale[id_scale]))\n",
    "    entropy.append(weight)"
   ]
  },
  {
   "cell_type": "code",
   "execution_count": 106,
   "id": "5543f0b3",
   "metadata": {},
   "outputs": [],
   "source": [
    "# 지표 속성 값의 다양성 산정\n",
    "div = np.ones(4) - entropy\n",
    "\n",
    "weights = div / sum(div)"
   ]
  },
  {
   "cell_type": "code",
   "execution_count": 107,
   "id": "917d05f7",
   "metadata": {},
   "outputs": [
    {
     "data": {
      "text/plain": [
       "array([0.28802173, 0.29011101, 0.14582084, 0.27604642])"
      ]
     },
     "execution_count": 107,
     "metadata": {},
     "output_type": "execute_result"
    }
   ],
   "source": [
    "weights "
   ]
  },
  {
   "cell_type": "code",
   "execution_count": 108,
   "id": "ecd2e4ed",
   "metadata": {},
   "outputs": [],
   "source": [
    "# weights min-max 가중치\n",
    "# array([0.28802173, 0.29011101, 0.14582084, 0.27604642])"
   ]
  },
  {
   "cell_type": "code",
   "execution_count": 109,
   "id": "5e4776c4",
   "metadata": {
    "scrolled": true
   },
   "outputs": [
    {
     "data": {
      "text/html": [
       "<div>\n",
       "<style scoped>\n",
       "    .dataframe tbody tr th:only-of-type {\n",
       "        vertical-align: middle;\n",
       "    }\n",
       "\n",
       "    .dataframe tbody tr th {\n",
       "        vertical-align: top;\n",
       "    }\n",
       "\n",
       "    .dataframe thead th {\n",
       "        text-align: right;\n",
       "    }\n",
       "</style>\n",
       "<table border=\"1\" class=\"dataframe\">\n",
       "  <thead>\n",
       "    <tr style=\"text-align: right;\">\n",
       "      <th></th>\n",
       "      <th>ID</th>\n",
       "      <th>가중치</th>\n",
       "    </tr>\n",
       "  </thead>\n",
       "  <tbody>\n",
       "    <tr>\n",
       "      <th>0</th>\n",
       "      <td>면적당 수용인원</td>\n",
       "      <td>0.288022</td>\n",
       "    </tr>\n",
       "    <tr>\n",
       "      <th>1</th>\n",
       "      <td>보육교사 1인당 아동수</td>\n",
       "      <td>0.290111</td>\n",
       "    </tr>\n",
       "    <tr>\n",
       "      <th>2</th>\n",
       "      <td>충족률</td>\n",
       "      <td>0.145821</td>\n",
       "    </tr>\n",
       "    <tr>\n",
       "      <th>3</th>\n",
       "      <td>어린이집개수</td>\n",
       "      <td>0.276046</td>\n",
       "    </tr>\n",
       "  </tbody>\n",
       "</table>\n",
       "</div>"
      ],
      "text/plain": [
       "             ID       가중치\n",
       "0      면적당 수용인원  0.288022\n",
       "1  보육교사 1인당 아동수  0.290111\n",
       "2           충족률  0.145821\n",
       "3        어린이집개수  0.276046"
      ]
     },
     "execution_count": 109,
     "metadata": {},
     "output_type": "execute_result"
    }
   ],
   "source": [
    "ID = np.array([\"면적당 수용인원\",\"보육교사 1인당 아동수\",\"충족률\",\"어린이집개수\"])\n",
    "data = pd.concat([pd.DataFrame(ID),pd.DataFrame(weights)], axis = 1)\n",
    "data.columns = [\"ID\",\"가중치\"]\n",
    "data"
   ]
  },
  {
   "cell_type": "markdown",
   "id": "f50acc0a",
   "metadata": {},
   "source": [
    "## x / sum(x) 평균"
   ]
  },
  {
   "cell_type": "code",
   "execution_count": 110,
   "id": "8f437229",
   "metadata": {
    "scrolled": true
   },
   "outputs": [
    {
     "data": {
      "text/html": [
       "<div>\n",
       "<style scoped>\n",
       "    .dataframe tbody tr th:only-of-type {\n",
       "        vertical-align: middle;\n",
       "    }\n",
       "\n",
       "    .dataframe tbody tr th {\n",
       "        vertical-align: top;\n",
       "    }\n",
       "\n",
       "    .dataframe thead th {\n",
       "        text-align: right;\n",
       "    }\n",
       "</style>\n",
       "<table border=\"1\" class=\"dataframe\">\n",
       "  <thead>\n",
       "    <tr style=\"text-align: right;\">\n",
       "      <th></th>\n",
       "      <th>면적당 수용인원</th>\n",
       "      <th>보육교사_1인당_아동수</th>\n",
       "      <th>충족률</th>\n",
       "      <th>어린이집개수</th>\n",
       "    </tr>\n",
       "  </thead>\n",
       "  <tbody>\n",
       "    <tr>\n",
       "      <th>0</th>\n",
       "      <td>0.002688</td>\n",
       "      <td>0.002236</td>\n",
       "      <td>0.002869</td>\n",
       "      <td>0.004487</td>\n",
       "    </tr>\n",
       "    <tr>\n",
       "      <th>1</th>\n",
       "      <td>0.004096</td>\n",
       "      <td>0.002949</td>\n",
       "      <td>0.004192</td>\n",
       "      <td>0.004142</td>\n",
       "    </tr>\n",
       "    <tr>\n",
       "      <th>2</th>\n",
       "      <td>0.002942</td>\n",
       "      <td>0.001769</td>\n",
       "      <td>0.002648</td>\n",
       "      <td>0.004487</td>\n",
       "    </tr>\n",
       "    <tr>\n",
       "      <th>3</th>\n",
       "      <td>0.002784</td>\n",
       "      <td>0.002408</td>\n",
       "      <td>0.001630</td>\n",
       "      <td>0.004487</td>\n",
       "    </tr>\n",
       "    <tr>\n",
       "      <th>4</th>\n",
       "      <td>0.002987</td>\n",
       "      <td>0.002924</td>\n",
       "      <td>0.003564</td>\n",
       "      <td>0.004487</td>\n",
       "    </tr>\n",
       "    <tr>\n",
       "      <th>...</th>\n",
       "      <td>...</td>\n",
       "      <td>...</td>\n",
       "      <td>...</td>\n",
       "      <td>...</td>\n",
       "    </tr>\n",
       "    <tr>\n",
       "      <th>311</th>\n",
       "      <td>0.002739</td>\n",
       "      <td>0.002654</td>\n",
       "      <td>0.003972</td>\n",
       "      <td>0.002761</td>\n",
       "    </tr>\n",
       "    <tr>\n",
       "      <th>312</th>\n",
       "      <td>0.002641</td>\n",
       "      <td>0.002787</td>\n",
       "      <td>0.004192</td>\n",
       "      <td>0.002416</td>\n",
       "    </tr>\n",
       "    <tr>\n",
       "      <th>313</th>\n",
       "      <td>0.002650</td>\n",
       "      <td>0.004128</td>\n",
       "      <td>0.004192</td>\n",
       "      <td>0.003797</td>\n",
       "    </tr>\n",
       "    <tr>\n",
       "      <th>314</th>\n",
       "      <td>0.003421</td>\n",
       "      <td>0.003268</td>\n",
       "      <td>0.003983</td>\n",
       "      <td>0.003452</td>\n",
       "    </tr>\n",
       "    <tr>\n",
       "      <th>315</th>\n",
       "      <td>0.003501</td>\n",
       "      <td>0.001474</td>\n",
       "      <td>0.001397</td>\n",
       "      <td>0.003797</td>\n",
       "    </tr>\n",
       "  </tbody>\n",
       "</table>\n",
       "<p>316 rows × 4 columns</p>\n",
       "</div>"
      ],
      "text/plain": [
       "     면적당 수용인원  보육교사_1인당_아동수       충족률    어린이집개수\n",
       "0    0.002688      0.002236  0.002869  0.004487\n",
       "1    0.004096      0.002949  0.004192  0.004142\n",
       "2    0.002942      0.001769  0.002648  0.004487\n",
       "3    0.002784      0.002408  0.001630  0.004487\n",
       "4    0.002987      0.002924  0.003564  0.004487\n",
       "..        ...           ...       ...       ...\n",
       "311  0.002739      0.002654  0.003972  0.002761\n",
       "312  0.002641      0.002787  0.004192  0.002416\n",
       "313  0.002650      0.004128  0.004192  0.003797\n",
       "314  0.003421      0.003268  0.003983  0.003452\n",
       "315  0.003501      0.001474  0.001397  0.003797\n",
       "\n",
       "[316 rows x 4 columns]"
      ]
     },
     "execution_count": 110,
     "metadata": {},
     "output_type": "execute_result"
    }
   ],
   "source": [
    "# x / sum(x) 평균\n",
    "scale_df1 = df_final.iloc[:, :] / df_final.iloc[:, :].sum()\n",
    "scale_df1"
   ]
  },
  {
   "cell_type": "code",
   "execution_count": 111,
   "id": "1935153e",
   "metadata": {},
   "outputs": [],
   "source": [
    "scale_df = pd.DataFrame(scale_df1, columns = [\"면적당 수용인원\",\"보육교사_1인당_아동수\",\"충족률\",\"어린이집개수\"])"
   ]
  },
  {
   "cell_type": "code",
   "execution_count": 112,
   "id": "47f9933a",
   "metadata": {},
   "outputs": [],
   "source": [
    "scale_p = scale_df.to_numpy()"
   ]
  },
  {
   "cell_type": "code",
   "execution_count": 113,
   "id": "30c0c066",
   "metadata": {},
   "outputs": [],
   "source": [
    "entropy = []\n",
    "for i in range(0,4):\n",
    "    scale = scale_p[:,i]\n",
    "    id_scale = np.where(scale)\n",
    "    weight = -(1/np.log(len(scale))) * np.sum(scale[id_scale]*np.log(scale[id_scale]))\n",
    "    entropy.append(weight)"
   ]
  },
  {
   "cell_type": "code",
   "execution_count": 114,
   "id": "ffcede8e",
   "metadata": {},
   "outputs": [],
   "source": [
    "# 지표 속성 값의 다양성 산정\n",
    "div = np.ones(4) - entropy\n",
    "\n",
    "weights = div / sum(div)"
   ]
  },
  {
   "cell_type": "code",
   "execution_count": 115,
   "id": "43e2ad16",
   "metadata": {},
   "outputs": [
    {
     "data": {
      "text/plain": [
       "array([0.10536745, 0.30839818, 0.25513354, 0.33110083])"
      ]
     },
     "execution_count": 115,
     "metadata": {},
     "output_type": "execute_result"
    }
   ],
   "source": [
    "weights "
   ]
  },
  {
   "cell_type": "code",
   "execution_count": 116,
   "id": "1fa2687b",
   "metadata": {},
   "outputs": [
    {
     "data": {
      "text/html": [
       "<div>\n",
       "<style scoped>\n",
       "    .dataframe tbody tr th:only-of-type {\n",
       "        vertical-align: middle;\n",
       "    }\n",
       "\n",
       "    .dataframe tbody tr th {\n",
       "        vertical-align: top;\n",
       "    }\n",
       "\n",
       "    .dataframe thead th {\n",
       "        text-align: right;\n",
       "    }\n",
       "</style>\n",
       "<table border=\"1\" class=\"dataframe\">\n",
       "  <thead>\n",
       "    <tr style=\"text-align: right;\">\n",
       "      <th></th>\n",
       "      <th>ID</th>\n",
       "      <th>가중치</th>\n",
       "    </tr>\n",
       "  </thead>\n",
       "  <tbody>\n",
       "    <tr>\n",
       "      <th>0</th>\n",
       "      <td>면적당 수용인원</td>\n",
       "      <td>0.105367</td>\n",
       "    </tr>\n",
       "    <tr>\n",
       "      <th>1</th>\n",
       "      <td>보육교사 1인당 아동수</td>\n",
       "      <td>0.308398</td>\n",
       "    </tr>\n",
       "    <tr>\n",
       "      <th>2</th>\n",
       "      <td>충족률</td>\n",
       "      <td>0.255134</td>\n",
       "    </tr>\n",
       "    <tr>\n",
       "      <th>3</th>\n",
       "      <td>어린이집개수</td>\n",
       "      <td>0.331101</td>\n",
       "    </tr>\n",
       "  </tbody>\n",
       "</table>\n",
       "</div>"
      ],
      "text/plain": [
       "             ID       가중치\n",
       "0      면적당 수용인원  0.105367\n",
       "1  보육교사 1인당 아동수  0.308398\n",
       "2           충족률  0.255134\n",
       "3        어린이집개수  0.331101"
      ]
     },
     "execution_count": 116,
     "metadata": {},
     "output_type": "execute_result"
    }
   ],
   "source": [
    "ID = np.array([\"면적당 수용인원\",\"보육교사 1인당 아동수\",\"충족률\",\"어린이집개수\"])\n",
    "data = pd.concat([pd.DataFrame(ID),pd.DataFrame(weights)], axis = 1)\n",
    "data.columns = [\"ID\",\"가중치\"]\n",
    "data"
   ]
  }
 ],
 "metadata": {
  "kernelspec": {
   "display_name": "Python 3 (ipykernel)",
   "language": "python",
   "name": "python3"
  },
  "language_info": {
   "codemirror_mode": {
    "name": "ipython",
    "version": 3
   },
   "file_extension": ".py",
   "mimetype": "text/x-python",
   "name": "python",
   "nbconvert_exporter": "python",
   "pygments_lexer": "ipython3",
   "version": "3.9.12"
  },
  "toc": {
   "base_numbering": 1,
   "nav_menu": {},
   "number_sections": true,
   "sideBar": true,
   "skip_h1_title": false,
   "title_cell": "Table of Contents",
   "title_sidebar": "Contents",
   "toc_cell": false,
   "toc_position": {},
   "toc_section_display": true,
   "toc_window_display": false
  }
 },
 "nbformat": 4,
 "nbformat_minor": 5
}
